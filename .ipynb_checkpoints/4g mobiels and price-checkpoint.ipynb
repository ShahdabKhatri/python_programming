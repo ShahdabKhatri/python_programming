{
 "cells": [
  {
   "cell_type": "code",
   "execution_count": 1,
   "metadata": {},
   "outputs": [],
   "source": [
    "from bs4 import BeautifulSoup\n",
    "import requests"
   ]
  },
  {
   "cell_type": "code",
   "execution_count": 2,
   "metadata": {},
   "outputs": [],
   "source": [
    "url=\"https://www.whatmobile.com.pk/Price-List-Of-All-4G_Mobile-Phones\"\n",
    "ureq=requests.get(url).text\n",
    "soup=BeautifulSoup(ureq,\"lxml\")"
   ]
  },
  {
   "cell_type": "code",
   "execution_count": 3,
   "metadata": {},
   "outputs": [],
   "source": [
    "container=soup.findAll(\"td\",{\"class\":\"BiggerText\"}) "
   ]
  },
  {
   "cell_type": "code",
   "execution_count": 4,
   "metadata": {},
   "outputs": [],
   "source": [
    "#price=container[i].find(\"span\",class_=\"PriceFont\").text.strip()\n",
    "#name=container[i].find(\"a\",class_=\"BiggerText\").get(\"title\")\n",
    "    \n",
    "import csv"
   ]
  },
  {
   "cell_type": "code",
   "execution_count": 5,
   "metadata": {},
   "outputs": [],
   "source": [
    "fh=open(\"mobile name and prices.csv\",\"w\",newline=\"\")\n",
    "csv_writer=csv.writer(fh)\n",
    "csv_writer.writerow([\"s.no\",\"name\",\"price\"])\n",
    "\n",
    "for i in range(len(container)):\n",
    "    price=container[i].find(\"span\",class_=\"PriceFont\").text.strip()\n",
    "    name=container[i].find(\"a\",class_=\"BiggerText\").get(\"title\")\n",
    "    csv_writer.writerow([i+1,name,price])\n",
    "fh.close()"
   ]
  },
  {
   "cell_type": "code",
   "execution_count": 6,
   "metadata": {},
   "outputs": [
    {
     "data": {
      "text/plain": [
       "1145"
      ]
     },
     "execution_count": 6,
     "metadata": {},
     "output_type": "execute_result"
    }
   ],
   "source": [
    "len(container)"
   ]
  },
  {
   "cell_type": "code",
   "execution_count": null,
   "metadata": {},
   "outputs": [],
   "source": []
  }
 ],
 "metadata": {
  "kernelspec": {
   "display_name": "Python 3",
   "language": "python",
   "name": "python3"
  },
  "language_info": {
   "codemirror_mode": {
    "name": "ipython",
    "version": 3
   },
   "file_extension": ".py",
   "mimetype": "text/x-python",
   "name": "python",
   "nbconvert_exporter": "python",
   "pygments_lexer": "ipython3",
   "version": "3.7.1"
  }
 },
 "nbformat": 4,
 "nbformat_minor": 2
}
