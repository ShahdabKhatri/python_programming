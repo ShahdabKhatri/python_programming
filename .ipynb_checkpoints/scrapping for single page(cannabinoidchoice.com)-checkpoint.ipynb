{
 "cells": [
  {
   "cell_type": "code",
   "execution_count": 1,
   "metadata": {},
   "outputs": [],
   "source": [
    "from bs4 import BeautifulSoup\n",
    "import requests"
   ]
  },
  {
   "cell_type": "code",
   "execution_count": 2,
   "metadata": {},
   "outputs": [],
   "source": [
    "url=\"https://cannabinoidchoice.com/directory/?p=1&category=0&zoom=15&is_mile=0&directory_radius=0&view=list\"\n",
    "my_url=requests.get(url).text\n",
    "page=BeautifulSoup(my_url,\"lxml\")"
   ]
  },
  {
   "cell_type": "code",
   "execution_count": 3,
   "metadata": {},
   "outputs": [],
   "source": [
    "container=page.findAll(\"div\",{\"class\":\"sabai-col-xs-9 sabai-directory-main\"})  "
   ]
  },
  {
   "cell_type": "code",
   "execution_count": 4,
   "metadata": {},
   "outputs": [
    {
     "data": {
      "text/plain": [
       "'name=container[0].find(\"div\",class_=\"sabai-directory-title\").a.text\\n\\ncategory=container[0].find(\"div\",class_=\"sabai-directory-category\").find_all(\"a\")\\ncategories=[]\\nfor i in range(len(category)):\\n    categories.append(category[i].text)\\n\\nlocation=container[0].find(\"div\",class_=\"sabai-directory-location\").text.strip()\\n\\ntelephone=container[0].find(\"div\",class_=\"sabai-directory-contact-tel\").span.text\\n\\nmail=container[0].find(\"div\",class_=\"sabai-directory-contact-email\").a.get(\"href\").split(\":\")[1]\\n\\nwebsite=container[0].find(\"div\",class_=\"sabai-directory-contact-website\").text'"
      ]
     },
     "execution_count": 4,
     "metadata": {},
     "output_type": "execute_result"
    }
   ],
   "source": [
    "\"\"\"name=container[0].find(\"div\",class_=\"sabai-directory-title\").a.text\n",
    "\n",
    "category=container[0].find(\"div\",class_=\"sabai-directory-category\").find_all(\"a\")\n",
    "categories=[]\n",
    "for i in range(len(category)):\n",
    "    categories.append(category[i].text)\n",
    "\n",
    "location=container[0].find(\"div\",class_=\"sabai-directory-location\").text.strip()\n",
    "\n",
    "telephone=container[0].find(\"div\",class_=\"sabai-directory-contact-tel\").span.text\n",
    "\n",
    "mail=container[0].find(\"div\",class_=\"sabai-directory-contact-email\").a.get(\"href\").split(\":\")[1]\n",
    "\n",
    "website=container[0].find(\"div\",class_=\"sabai-directory-contact-website\").text\"\"\""
   ]
  },
  {
   "cell_type": "code",
   "execution_count": 5,
   "metadata": {},
   "outputs": [],
   "source": [
    "import csv\n",
    "fh=open(\"scrapping for single page(cannabinoidchoice).csv\",\"w\")\n",
    "writer=csv.writer(fh)"
   ]
  },
  {
   "cell_type": "code",
   "execution_count": 6,
   "metadata": {},
   "outputs": [],
   "source": [
    "writer.writerow([\"name\",\"category\",\"location\",\"telephone\",\"mail\",\"website\"])\n",
    "for i in range(len(container)):\n",
    "    try:\n",
    "        name=container[i].find(\"div\",class_=\"sabai-directory-title\").a.text\n",
    "    except:\n",
    "        name=None\n",
    "    try:\n",
    "        category=container[i].find(\"div\",class_=\"sabai-directory-category\").find_all(\"a\")\n",
    "        categories=[]\n",
    "        for i in range(len(category)):\n",
    "            categories.append(category[i].text)\n",
    "    except:\n",
    "        category=None\n",
    "    try:\n",
    "        location=container[i].find(\"div\",class_=\"sabai-directory-location\").text.strip()\n",
    "    except:\n",
    "        location=None\n",
    "    try:\n",
    "        telephone=container[i].find(\"div\",class_=\"sabai-directory-contact-tel\").span.text\n",
    "    except:\n",
    "        telephone=None\n",
    "    try:\n",
    "        mail=container[i].find(\"div\",class_=\"sabai-directory-contact-email\").a.get(\"href\").split(\":\")[1]\n",
    "    except:\n",
    "        mail=None\n",
    "    try:     \n",
    "        website=container[i].find(\"div\",class_=\"sabai-directory-contact-website\").text\n",
    "    except:\n",
    "        website=None\n",
    "    writer.writerow([name,categories,location,telephone,mail,website])\n",
    "fh.close()"
   ]
  },
  {
   "cell_type": "code",
   "execution_count": null,
   "metadata": {},
   "outputs": [],
   "source": []
  }
 ],
 "metadata": {
  "kernelspec": {
   "display_name": "Python 3",
   "language": "python",
   "name": "python3"
  },
  "language_info": {
   "codemirror_mode": {
    "name": "ipython",
    "version": 3
   },
   "file_extension": ".py",
   "mimetype": "text/x-python",
   "name": "python",
   "nbconvert_exporter": "python",
   "pygments_lexer": "ipython3",
   "version": "3.7.1"
  }
 },
 "nbformat": 4,
 "nbformat_minor": 2
}
